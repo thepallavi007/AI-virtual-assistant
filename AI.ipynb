{
 "cells": [
  {
   "cell_type": "code",
   "execution_count": 6,
   "id": "5d1edcbc",
   "metadata": {},
   "outputs": [
    {
     "name": "stdout",
     "output_type": "stream",
     "text": [
      "Collecting PyAudio\n",
      "  Using cached PyAudio-0.2.14-cp39-cp39-win_amd64.whl (164 kB)\n",
      "Installing collected packages: PyAudio\n",
      "Successfully installed PyAudio-0.2.14\n",
      "Note: you may need to restart the kernel to use updated packages.\n"
     ]
    },
    {
     "name": "stderr",
     "output_type": "stream",
     "text": [
      "WARNING: There was an error checking the latest version of pip.\n"
     ]
    }
   ],
   "source": [
    "pip install PyAudio"
   ]
  },
  {
   "cell_type": "code",
   "execution_count": 1,
   "id": "b1828074",
   "metadata": {},
   "outputs": [
    {
     "name": "stdout",
     "output_type": "stream",
     "text": [
      "Collecting python-pptxNote: you may need to restart the kernel to use updated packages.\n",
      "\n",
      "  Downloading python_pptx-0.6.23-py3-none-any.whl (471 kB)\n",
      "     ------------------------------------ 471.6/471.6 kB 410.1 kB/s eta 0:00:00\n",
      "Requirement already satisfied: lxml>=3.1.0 in c:\\users\\thepv\\anaconda3\\lib\\site-packages (from python-pptx) (4.9.1)\n",
      "Requirement already satisfied: Pillow>=3.3.2 in c:\\users\\thepv\\anaconda3\\lib\\site-packages (from python-pptx) (9.2.0)\n",
      "Requirement already satisfied: XlsxWriter>=0.5.7 in c:\\users\\thepv\\anaconda3\\lib\\site-packages (from python-pptx) (3.0.3)\n",
      "Installing collected packages: python-pptx\n",
      "Successfully installed python-pptx-0.6.23\n"
     ]
    },
    {
     "name": "stderr",
     "output_type": "stream",
     "text": [
      "WARNING: There was an error checking the latest version of pip.\n"
     ]
    }
   ],
   "source": [
    "pip install python-pptx\n"
   ]
  },
  {
   "cell_type": "code",
   "execution_count": 5,
   "id": "856291dd",
   "metadata": {},
   "outputs": [
    {
     "name": "stdout",
     "output_type": "stream",
     "text": [
      "Requirement already satisfied: beautifulsoup4 in c:\\users\\thepv\\anaconda3\\lib\\site-packages (4.11.1)\n",
      "Requirement already satisfied: soupsieve>1.2 in c:\\users\\thepv\\anaconda3\\lib\\site-packages (from beautifulsoup4) (2.3.1)\n"
     ]
    },
    {
     "name": "stderr",
     "output_type": "stream",
     "text": [
      "WARNING: There was an error checking the latest version of pip.\n"
     ]
    },
    {
     "name": "stdout",
     "output_type": "stream",
     "text": [
      "Requirement already satisfied: requests in c:\\users\\thepv\\anaconda3\\lib\\site-packages (2.28.1)\n",
      "Requirement already satisfied: charset-normalizer<3,>=2 in c:\\users\\thepv\\anaconda3\\lib\\site-packages (from requests) (2.0.4)\n",
      "Requirement already satisfied: urllib3<1.27,>=1.21.1 in c:\\users\\thepv\\anaconda3\\lib\\site-packages (from requests) (1.26.11)\n",
      "Requirement already satisfied: idna<4,>=2.5 in c:\\users\\thepv\\anaconda3\\lib\\site-packages (from requests) (3.3)\n",
      "Requirement already satisfied: certifi>=2017.4.17 in c:\\users\\thepv\\anaconda3\\lib\\site-packages (from requests) (2022.9.14)\n"
     ]
    },
    {
     "name": "stderr",
     "output_type": "stream",
     "text": [
      "WARNING: There was an error checking the latest version of pip.\n"
     ]
    }
   ],
   "source": [
    "!pip install beautifulsoup4\n",
    "!pip install requests\n"
   ]
  },
  {
   "cell_type": "code",
   "execution_count": 2,
   "id": "6327804f",
   "metadata": {},
   "outputs": [
    {
     "name": "stdout",
     "output_type": "stream",
     "text": [
      "Collecting newsapi-python\n",
      "  Downloading newsapi_python-0.2.7-py2.py3-none-any.whl (7.9 kB)\n",
      "Requirement already satisfied: requests<3.0.0 in c:\\users\\thepv\\anaconda3\\lib\\site-packages (from newsapi-python) (2.28.1)\n",
      "Requirement already satisfied: urllib3<1.27,>=1.21.1 in c:\\users\\thepv\\anaconda3\\lib\\site-packages (from requests<3.0.0->newsapi-python) (1.26.11)\n",
      "Requirement already satisfied: certifi>=2017.4.17 in c:\\users\\thepv\\anaconda3\\lib\\site-packages (from requests<3.0.0->newsapi-python) (2022.9.14)\n",
      "Requirement already satisfied: idna<4,>=2.5 in c:\\users\\thepv\\anaconda3\\lib\\site-packages (from requests<3.0.0->newsapi-python) (3.3)\n",
      "Requirement already satisfied: charset-normalizer<3,>=2 in c:\\users\\thepv\\anaconda3\\lib\\site-packages (from requests<3.0.0->newsapi-python) (2.0.4)\n",
      "Installing collected packages: newsapi-python\n",
      "Successfully installed newsapi-python-0.2.7\n",
      "Note: you may need to restart the kernel to use updated packages.\n"
     ]
    },
    {
     "name": "stderr",
     "output_type": "stream",
     "text": [
      "WARNING: There was an error checking the latest version of pip.\n"
     ]
    }
   ],
   "source": [
    "pip install newsapi-python\n"
   ]
  },
  {
   "cell_type": "code",
   "execution_count": 5,
   "id": "fcf5d037",
   "metadata": {},
   "outputs": [
    {
     "name": "stdout",
     "output_type": "stream",
     "text": [
      "Collecting feedparser\n",
      "  Downloading feedparser-6.0.11-py3-none-any.whl (81 kB)\n",
      "     ---------------------------------------- 81.3/81.3 kB 1.1 MB/s eta 0:00:00\n",
      "Collecting sgmllib3k\n",
      "  Downloading sgmllib3k-1.0.0.tar.gz (5.8 kB)\n",
      "  Preparing metadata (setup.py): started\n",
      "  Preparing metadata (setup.py): finished with status 'done'\n",
      "Building wheels for collected packages: sgmllib3k\n",
      "  Building wheel for sgmllib3k (setup.py): started\n",
      "  Building wheel for sgmllib3k (setup.py): finished with status 'done'\n",
      "  Created wheel for sgmllib3k: filename=sgmllib3k-1.0.0-py3-none-any.whl size=6048 sha256=1ec3bdeb323c4ecfe64f75e50868662167e3f936b96f5e7eb643e2386f02bb44\n",
      "  Stored in directory: c:\\users\\thepv\\appdata\\local\\pip\\cache\\wheels\\65\\7a\\a7\\78c287f64e401255dff4c13fdbc672fed5efbfd21c530114e1\n",
      "Successfully built sgmllib3k\n",
      "Installing collected packages: sgmllib3k, feedparser\n",
      "Successfully installed feedparser-6.0.11 sgmllib3k-1.0.0\n",
      "Note: you may need to restart the kernel to use updated packages.\n"
     ]
    },
    {
     "name": "stderr",
     "output_type": "stream",
     "text": [
      "WARNING: There was an error checking the latest version of pip.\n"
     ]
    }
   ],
   "source": [
    "pip install feedparser\n"
   ]
  },
  {
   "cell_type": "code",
   "execution_count": 1,
   "id": "7e07fae1",
   "metadata": {
    "scrolled": false
   },
   "outputs": [
    {
     "name": "stdout",
     "output_type": "stream",
     "text": [
      "listening........\n",
      "hi \n",
      "hi \n",
      "listening........\n",
      "harry potter\n",
      "listening........\n",
      "Error during command recognition: \n",
      "\n",
      "listening........\n",
      "Error during command recognition: \n",
      "\n",
      "listening........\n",
      "Error during command recognition: [WinError 10060] A connection attempt failed because the connected party did not properly respond after a period of time, or established connection failed because connected host has failed to respond\n",
      "\n"
     ]
    }
   ],
   "source": [
    "import tkinter as tk\n",
    "from tkinter import scrolledtext\n",
    "from tkinter import filedialog\n",
    "import speech_recognition as sr\n",
    "import pyttsx3\n",
    "import pywhatkit\n",
    "import datetime\n",
    "import wikipedia\n",
    "import pyjokes\n",
    "import webbrowser\n",
    "import subprocess\n",
    "from pptx import Presentation\n",
    "from pptx.util import Inches\n",
    "import feedparser\n",
    "import re  # Import the regular expression module\n",
    "import math\n",
    "import os\n",
    "\n",
    "class AlexaGUI:\n",
    "    def __init__(self, master):\n",
    "        self.master = master\n",
    "        master.title(\"Alexa GUI\")\n",
    "\n",
    "        self.output_text = scrolledtext.ScrolledText(master, width=60, height=15,wrap=tk.WORD, font=(\"Helvetica\", 10))\n",
    "        self.output_text.pack(pady=10)\n",
    "        \n",
    "        self.input_label = tk.Label(master, text=\"User Command:\")\n",
    "        self.input_label.pack()\n",
    "\n",
    "        self.input_entry = tk.Entry(master, width=40, font=(\"Helvetica\", 10))\n",
    "        self.input_entry.pack(pady=5)\n",
    "\n",
    "        self.start_button = tk.Button(master, text=\"Start Alexa\", command=self.start_alexa)\n",
    "        self.start_button.pack(side=tk.LEFT, padx=10)\n",
    "\n",
    "        self.stop_button = tk.Button(master, text=\"Stop Alexa\", command=self.stop_alexa)\n",
    "        self.stop_button.pack(side=tk.RIGHT)\n",
    "\n",
    "        self.running = False\n",
    "        self.running_event = None\n",
    "        self.listener = sr.Recognizer()\n",
    "\n",
    "\n",
    "    def start_alexa(self):\n",
    "        if not self.running:\n",
    "            self.running = True\n",
    "            self.running_event = self.master.after(100, self.run_alexa_loop)\n",
    "\n",
    "    def stop_alexa(self):\n",
    "        if self.running:\n",
    "            self.running = False\n",
    "\n",
    "    def run_alexa_loop(self):\n",
    "        if self.running:\n",
    "            command = self.take_command()\n",
    "            print(command)\n",
    "            if command:\n",
    "                self.input_entry.delete(0, tk.END)\n",
    "                self.input_entry.insert(0, command)\n",
    "\n",
    "                self.output_text.insert(tk.END, f\"User Command: {command}\\n\")\n",
    "                if 'hello' in command or 'hi' in command:\n",
    "                    self.talk('Hello Pallavi! How can I help you today?')\n",
    "                elif 'how are you' in command:\n",
    "                    self.talk('I am doing well, thank you for asking!')\n",
    "                elif 'your name' in command:\n",
    "                    self.talk('I am Alexa, your virtual assistant.')\n",
    "                elif 'thank you' in command:\n",
    "                    self.talk('Youre welcome!')\n",
    "                elif 'bye' in command or 'goodbye' in command:\n",
    "                    self.talk('Goodbye! Have a great day!')\n",
    "                    self.running = False  # Stop the loop and close the application\n",
    "                elif 'play' in command:\n",
    "                    song = command.replace('play', '')\n",
    "                    self.talk('playing' + song)\n",
    "                    pywhatkit.playonyt(song)\n",
    "                elif 'time' in command:\n",
    "                    time = datetime.datetime.now().strftime('%I:%M %p')\n",
    "                    print(time)\n",
    "                    self.talk('Current time is ' + time)\n",
    "                elif 'who is' in command:\n",
    "                    person = command.replace('who the heck is', '')\n",
    "                    info = wikipedia.summary(person, 2)\n",
    "                    print(info)\n",
    "                    self.talk(info)\n",
    "\n",
    "                elif 'search' in command:\n",
    "                    search_query = command.replace('search', '').strip()\n",
    "                    self.search_google(search_query)\n",
    "\n",
    "                elif 'date' in command:\n",
    "                    self.talk('sorry, I have a headache')\n",
    "                elif 'are you human' in command:\n",
    "                    self.talk('No, I am Alexa')\n",
    "                elif 'are you single' in command:\n",
    "                    self.talk('I am in a relationship with you')\n",
    "                elif 'joke' in command:\n",
    "                    self.talk(pyjokes.get_jokes())\n",
    "                elif 'open' in command and 'website' in command:\n",
    "                    website = command.replace('open', '').replace('website', '').strip()\n",
    "                    self.talk(f'Opening {website}')\n",
    "                    webbrowser.open(website)\n",
    "                elif 'open' in command and ('file' in command or 'document' in command):\n",
    "                    file_name = command.replace('open', '').replace('file', '').replace('document', '').strip()\n",
    "                    self.open_file(file_name)\n",
    "                elif 'open' in command and ('application' in command or 'app' in command):\n",
    "                    app_name = command.replace('open', '').replace('application', '').replace('app', '').strip()\n",
    "                    self.talk(f'Opening {app_name}')\n",
    "                    try:\n",
    "                        subprocess.Popen([app_name], shell=True)\n",
    "                    except Exception as e:\n",
    "                        self.talk(f\"Error opening {app_name}: {e}\")\n",
    "                elif 'create ppt' in command:\n",
    "                    topic = command.replace('create ppt', '').strip()\n",
    "                    self.create_ppt(topic)\n",
    "\n",
    "                elif 'news' in command:\n",
    "                    self.get_news()\n",
    "                elif 'calculate' in command:\n",
    "                    result = self.calculate(command)\n",
    "                    self.talk(f\"The result is {result}\")\n",
    "                else:\n",
    "                    self.talk('Sorry Pallavi, I did not understand that. Can you please repeat?')\n",
    "\n",
    "\n",
    "            self.running_event = self.master.after(100, self.run_alexa_loop)\n",
    "        else:\n",
    "                self.running_event = None\n",
    "\n",
    "    def talk(self, text):\n",
    "        self.output_text.insert(tk.END, text + \"\\n\")\n",
    "        engine = pyttsx3.init()\n",
    "        voices = engine.getProperty('voices')\n",
    "        engine.setProperty('voice', voices[1].id)\n",
    "        engine.say(text)\n",
    "        engine.runAndWait()\n",
    "\n",
    "    def take_command(self):\n",
    "        command = \"\"\n",
    "        try:\n",
    "            with sr.Microphone() as source:\n",
    "                print(\"listening........\")\n",
    "                voice = self.listener.listen(source)\n",
    "                command = self.listener.recognize_google(voice)\n",
    "                command = command.lower()\n",
    "                if 'alexa' in command:\n",
    "                    command = command.replace('alexa', '')\n",
    "                    print(command)\n",
    "        except Exception as e:\n",
    "            print(f\"Error during command recognition: {e}\")\n",
    "        return command\n",
    "\n",
    "    def create_ppt(self, topic):\n",
    "        try:\n",
    "            presentation = Presentation()\n",
    "\n",
    "            # Add a title slide\n",
    "            title_slide_layout = presentation.slide_layouts[0]\n",
    "            title_slide = presentation.slides.add_slide(title_slide_layout)\n",
    "            title = title_slide.shapes.title\n",
    "            subtitle = title_slide.placeholders[1]\n",
    "            title.text = f\"{topic} Presentation\"\n",
    "            subtitle.text = f\"Generated by Alexa\"\n",
    "\n",
    "            # Add content slides\n",
    "            content_slide_layout = presentation.slide_layouts[1]  # Change to the desired layout\n",
    "            content_slide = presentation.slides.add_slide(content_slide_layout)\n",
    "            content_title = content_slide.shapes.title\n",
    "            content_subtitle = content_slide.placeholders[1]\n",
    "            content_title.text = f\"Introduction to {topic}\"\n",
    "            content_subtitle.text = \"This presentation is created by Alexa.\"\n",
    "\n",
    "            # Save the presentation to a file\n",
    "            save_path = filedialog.asksaveasfilename(defaultextension=\".pptx\", filetypes=[(\"PowerPoint files\", \"*.pptx\")])\n",
    "            if save_path:\n",
    "                presentation.save(save_path)\n",
    "                self.talk(f\"The {topic} presentation has been created and saved as {os.path.basename(save_path)}\")\n",
    "            else:\n",
    "                self.talk(\"Cancelled presentation creation.\")\n",
    "\n",
    "        except Exception as e:\n",
    "            print(f\"Error creating presentation: {e}\")\n",
    "            self.talk(\"Sorry, I couldn't create the presentation.\")\n",
    "        \n",
    "    \n",
    "            \n",
    "    def open_file(self, file_name):\n",
    "        try:\n",
    "            # Wrap the file name in double quotes to handle spaces\n",
    "            os.startfile(file_name)\n",
    "        except Exception as e:\n",
    "            print(f\"Error opening file: {e}\")\n",
    "            self.talk(\"Sorry, I couldn't open the file.\")\n",
    "            \n",
    "\n",
    "\n",
    "\n",
    "    def get_news(self):\n",
    "        try:\n",
    "            rss_feed_url = \"https://news.google.com/rss?hl=en-US&gl=US&ceid=US:en\"  # Google News RSS feed\n",
    "            feed = feedparser.parse(rss_feed_url)\n",
    "\n",
    "            if feed.entries:\n",
    "                self.talk(\"Here are some of the latest news headlines:\")\n",
    "                for i, entry in enumerate(feed.entries[:5], start=1):\n",
    "                    self.talk(f\"News {i}: {entry.title}\")\n",
    "            else:\n",
    "                self.talk(\"Sorry, I couldn't fetch the latest news at the moment.\")\n",
    "        except Exception as e:\n",
    "            print(f\"Error fetching news: {e}\")\n",
    "            self.talk(\"Sorry, I couldn't fetch the latest news at the moment.\")\n",
    "\n",
    "    def calculate(self, command):\n",
    "        # Extract the mathematical expression using regular expression\n",
    "        match = re.search(r'calculate (.+)', command)\n",
    "        if match:\n",
    "            expression = match.group(1)\n",
    "            try:\n",
    "                # Evaluate the expression using Python's eval function\n",
    "                result = eval(expression)\n",
    "                return result\n",
    "            except Exception as e:\n",
    "                # Check for specific mathematical operations\n",
    "                if 'square root of' in expression:\n",
    "                    number_str = expression.replace('square root of', '').strip()\n",
    "                    try:\n",
    "                        number = float(number_str)\n",
    "                        result = math.sqrt(number)\n",
    "                        return result\n",
    "                    except ValueError:\n",
    "                        print(f\"Error during calculation: {e}\")\n",
    "                        return \"Error\"\n",
    "                elif 'sin' in expression:\n",
    "                    angle_str = expression.replace('sin', '').strip()\n",
    "                    try:\n",
    "                        angle = math.radians(float(angle_str))\n",
    "                        result = math.sin(angle)\n",
    "                        return result\n",
    "                    except ValueError:\n",
    "                        print(f\"Error during calculation: {e}\")\n",
    "                        return \"Error\"\n",
    "                elif 'cos' in expression:\n",
    "                    angle_str = expression.replace('cos', '').strip()\n",
    "                    try:\n",
    "                        angle = math.radians(float(angle_str))\n",
    "                        result = math.cos(angle)\n",
    "                        return result\n",
    "                    except ValueError:\n",
    "                        print(f\"Error during calculation: {e}\")\n",
    "                        return \"Error\"\n",
    "                elif 'tan' in expression:\n",
    "                    angle_str = expression.replace('tan', '').strip()\n",
    "                    try:\n",
    "                        angle = math.radians(float(angle_str))\n",
    "                        result = math.tan(angle)\n",
    "                        return result\n",
    "                    except ValueError:\n",
    "                        print(f\"Error during calculation: {e}\")\n",
    "                        return \"Error\"\n",
    "                else:\n",
    "                    print(f\"Error during calculation: {e}\")\n",
    "                    return \"Error\"\n",
    "        else:\n",
    "            return \"Invalid command for calculation\"\n",
    "        \n",
    "    def search_google(self, query):\n",
    "        try:\n",
    "            search_url = f\"https://www.google.com/search?q={query}\"\n",
    "            webbrowser.open(search_url)\n",
    "        except Exception as e:\n",
    "            print(f\"Error searching on Google: {e}\")\n",
    "            self.talk(\"Sorry, I couldn't perform the Google search.\")\n",
    "            \n",
    "    def execute_command(self):\n",
    "        command = self.command_entry.get().lower()\n",
    "\n",
    "        if 'play song ' in command:\n",
    "            song_query = command.replace('play song ', '').strip()\n",
    "            self.play_song_on_saavn(song_query)\n",
    "        else:\n",
    "            self.output_text.insert(tk.END, f\"Invalid command: {command}\\n\")\n",
    "\n",
    "    def play_song_on_saavn(self, song_query):\n",
    "        try:\n",
    "            search_url = f\"https://www.jiosaavn.com/search/{song_query}\"\n",
    "            webbrowser.open(search_url)\n",
    "        except Exception as e:\n",
    "            print(f\"Error playing song on Saavn: {e}\")\n",
    "            self.talk(\"Sorry, I couldn't play the song on Saavn.\")\n",
    "\n",
    "            \n",
    "if __name__ == \"__main__\":\n",
    "    root = tk.Tk()\n",
    "    app = AlexaGUI(root)\n",
    "    root.mainloop()\n"
   ]
  },
  {
   "cell_type": "code",
   "execution_count": null,
   "id": "404b8713",
   "metadata": {},
   "outputs": [],
   "source": [
    "\n"
   ]
  },
  {
   "cell_type": "code",
   "execution_count": null,
   "id": "e7346dc5",
   "metadata": {},
   "outputs": [],
   "source": []
  },
  {
   "cell_type": "code",
   "execution_count": null,
   "id": "5cae8f60",
   "metadata": {},
   "outputs": [],
   "source": []
  }
 ],
 "metadata": {
  "kernelspec": {
   "display_name": "Python 3 (ipykernel)",
   "language": "python",
   "name": "python3"
  },
  "language_info": {
   "codemirror_mode": {
    "name": "ipython",
    "version": 3
   },
   "file_extension": ".py",
   "mimetype": "text/x-python",
   "name": "python",
   "nbconvert_exporter": "python",
   "pygments_lexer": "ipython3",
   "version": "3.9.13"
  }
 },
 "nbformat": 4,
 "nbformat_minor": 5
}
